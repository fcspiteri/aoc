{
 "cells": [
  {
   "cell_type": "code",
   "execution_count": null,
   "metadata": {},
   "outputs": [],
   "source": [
    "input = [12,20,0,6,1,17,7]"
   ]
  },
  {
   "cell_type": "code",
   "execution_count": null,
   "metadata": {},
   "outputs": [],
   "source": [
    "nums_said = []\n",
    "\n",
    "#say starting numbers\n",
    "for i in range(0, len(input)):\n",
    "    nums_said.append(input[i])\n",
    "\n",
    "while len(nums_said) < 2020:\n",
    "    nums = []\n",
    "    between = 0\n",
    "    if nums_said.count(nums_said[-1]) == 1:\n",
    "        nums_said.append(0)\n",
    "    else:\n",
    "        for i in range(0, len(nums_said)):\n",
    "            if nums_said[i] == nums_said[-1]:\n",
    "                nums.append(i)\n",
    "        between = nums[-1]-nums[-2]\n",
    "        nums_said.append(between)\n",
    "        \n",
    "print(nums_said[-1])"
   ]
  },
  {
   "cell_type": "code",
   "execution_count": null,
   "metadata": {},
   "outputs": [],
   "source": [
    "nums_said = []\n",
    "\n",
    "#say starting numbers\n",
    "for i in range(0, len(input)):\n",
    "    nums_said.append(input[i])\n",
    "\n",
    "nums_said = len(input)\n",
    "seen = {} #num, last position seen\n",
    "last_said = input[-1]\n",
    "\n",
    "\n",
    "\n",
    "for i in range(0, len(input)):\n",
    "    seen[input[i]] = i+1\n",
    "print(seen)\n",
    "print(last_said)\n",
    "while nums_said < 3000000:\n",
    "    if last_said not in seen:\n",
    "        seen[last_said]=nums_said\n",
    "        last_said = 0\n",
    "    else:\n",
    "        last_pos = last_said\n",
    "        last_said = nums_said-seen[last_pos]\n",
    "        seen[last_pos] = nums_said\n",
    "    nums_said += 1\n",
    "\n",
    "print(nums_said, last_said)"
   ]
  },
  {
   "cell_type": "code",
   "execution_count": null,
   "metadata": {},
   "outputs": [],
   "source": []
  }
 ],
 "metadata": {
  "kernelspec": {
   "display_name": "Python 3",
   "language": "python",
   "name": "python3"
  },
  "language_info": {
   "codemirror_mode": {
    "name": "ipython",
    "version": 3
   },
   "file_extension": ".py",
   "mimetype": "text/x-python",
   "name": "python",
   "nbconvert_exporter": "python",
   "pygments_lexer": "ipython3",
   "version": "3.6.5"
  }
 },
 "nbformat": 4,
 "nbformat_minor": 2
}
