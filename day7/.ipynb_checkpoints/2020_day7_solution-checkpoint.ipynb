{
 "cells": [
  {
   "cell_type": "code",
   "execution_count": 1,
   "metadata": {},
   "outputs": [
    {
     "name": "stdout",
     "output_type": "stream",
     "text": [
      "265\n"
     ]
    }
   ],
   "source": [
    "with open('input7.txt') as fin:\n",
    "    groups = [\n",
    "        [f.strip() for f in e.split('bags contain')]\n",
    "        for e in fin.read().split('\\n')\n",
    "    ]\n",
    "\n",
    "def find_container(bag_type):\n",
    "    containers = []\n",
    "    for i in groups:\n",
    "        if bag_type in i[1]:\n",
    "            containers.append(i[0])\n",
    "    return containers\n",
    "\n",
    "primary = find_container('shiny gold')\n",
    "bags = [1,len(primary)]\n",
    "\n",
    "\n",
    "while bags[-1:]> bags[-2:-1]:\n",
    "    \n",
    "    for color in primary:\n",
    "        primary = primary + find_container(color)\n",
    "    primary = set(primary)\n",
    "    bags.append(len(primary))\n",
    "    primary = list(primary)\n",
    "    \n",
    "print(len(primary))"
   ]
  },
  {
   "cell_type": "code",
   "execution_count": 7,
   "metadata": {},
   "outputs": [
    {
     "name": "stdout",
     "output_type": "stream",
     "text": [
      "14177\n"
     ]
    }
   ],
   "source": [
    "#Part 2\n",
    "\n",
    "import collections\n",
    "import sys\n",
    "'''\n",
    "print(sys.getrecursionlimit())\n",
    "sys.setrecursionlimit(3000)\n",
    "'''\n",
    "\n",
    "with open('input7.txt') as fin:\n",
    "    groups = [f.strip() for f in fin.readlines()]\n",
    "\n",
    "bag_dict = collections.defaultdict(list)\n",
    "    \n",
    "for line in groups:\n",
    "    outer_bag, inner_bags = [i for i in line.split(' bags contain ')]\n",
    "    inner_bags = inner_bags.replace('.','').split(', ')\n",
    "    for bag in inner_bags:\n",
    "        if bag != 'no other bags':\n",
    "            num = int(bag[0])\n",
    "            bags_in = bag[2:].split(' bag')[0]\n",
    "            bag_dict[outer_bag].append((bags_in, num))\n",
    "            \n",
    "def count_bags_inside(outer_color):\n",
    "    count = 0\n",
    "    for bag_color, num in bag_dict[outer_color]:\n",
    "        count = count + num + (num*count_bags_inside(bag_color))\n",
    "    return count\n",
    "\n",
    "print(count_bags_inside('shiny gold'))\n",
    "        \n"
   ]
  },
  {
   "cell_type": "code",
   "execution_count": null,
   "metadata": {},
   "outputs": [],
   "source": []
  }
 ],
 "metadata": {
  "kernelspec": {
   "display_name": "Python 3",
   "language": "python",
   "name": "python3"
  },
  "language_info": {
   "codemirror_mode": {
    "name": "ipython",
    "version": 3
   },
   "file_extension": ".py",
   "mimetype": "text/x-python",
   "name": "python",
   "nbconvert_exporter": "python",
   "pygments_lexer": "ipython3",
   "version": "3.6.5"
  }
 },
 "nbformat": 4,
 "nbformat_minor": 2
}
