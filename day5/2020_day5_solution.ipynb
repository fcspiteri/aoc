{
 "cells": [
  {
   "cell_type": "code",
   "execution_count": 1,
   "metadata": {},
   "outputs": [],
   "source": [
    "from math import floor, ceil\n",
    "\n",
    "with open('input5.txt','r') as f_open:\n",
    "    data = f_open.read()\n",
    "\n",
    "data = data.split('\\n')"
   ]
  },
  {
   "cell_type": "code",
   "execution_count": 2,
   "metadata": {},
   "outputs": [
    {
     "name": "stdout",
     "output_type": "stream",
     "text": [
      "816\n"
     ]
    }
   ],
   "source": [
    "#Part 1\n",
    "\n",
    "max = 0\n",
    "for i in range(0, len(data)):\n",
    "    rows = [0, 127]\n",
    "    cols = [0, 7]\n",
    "    seat = [0,0]\n",
    "    for char in data[i][0:-3]:\n",
    "        if char == 'F':\n",
    "            rows = [rows[0], floor(rows[1]-(rows[1]-rows[0])/2)]\n",
    "        else:\n",
    "            rows = [ceil((rows[1]-rows[0])/2+rows[0]), rows[1]]\n",
    "    seat[0] = rows[0]\n",
    "\n",
    "    for char in data[i][-3:]:\n",
    "        if char == 'L':\n",
    "            cols = [cols[0], floor(cols[1]-(cols[1]-cols[0])/2)]\n",
    "        else:\n",
    "            cols = [ceil((cols[1]-cols[0])/2+cols[0]), cols[1]]\n",
    "    seat[1] = cols[0]\n",
    "\n",
    "    seat_id = seat[0]*8 + seat[1]\n",
    "    \n",
    "    if seat_id > max:\n",
    "        max = seat_id\n",
    "print(max)\n",
    "\n"
   ]
  },
  {
   "cell_type": "code",
   "execution_count": 4,
   "metadata": {},
   "outputs": [
    {
     "name": "stdout",
     "output_type": "stream",
     "text": [
      "539\n"
     ]
    }
   ],
   "source": [
    "#Part 2\n",
    "\n",
    "seat_id_list = []\n",
    "for i in range(0, len(data)):\n",
    "    rows = [0, 127]\n",
    "    cols = [0, 7]\n",
    "    seat = [0,0]\n",
    "    for char in data[i][0:-3]:\n",
    "        if char == 'F':\n",
    "            rows = [rows[0], floor(rows[1]-(rows[1]-rows[0])/2)]\n",
    "        else:\n",
    "            rows = [ceil((rows[1]-rows[0])/2+rows[0]), rows[1]]\n",
    "    seat[0] = rows[0]\n",
    "\n",
    "    for char in data[i][-3:]:\n",
    "        if char == 'L':\n",
    "            cols = [cols[0], floor(cols[1]-(cols[1]-cols[0])/2)]\n",
    "        else:\n",
    "            cols = [ceil((cols[1]-cols[0])/2+cols[0]), cols[1]]\n",
    "    seat[1] = cols[0]\n",
    "\n",
    "    seat_id = seat[0]*8 + seat[1]\n",
    "    \n",
    "    seat_id_list.append(seat_id)\n",
    "seat_id_list.sort()\n",
    "\n",
    "\n",
    "for i in range(2, len(seat_id_list)):\n",
    "    if seat_id_list[i]-2 == seat_id_list[i-1]:\n",
    "        print(seat_id_list[i]-1)\n"
   ]
  },
  {
   "cell_type": "code",
   "execution_count": null,
   "metadata": {},
   "outputs": [],
   "source": []
  }
 ],
 "metadata": {
  "kernelspec": {
   "display_name": "Python 3",
   "language": "python",
   "name": "python3"
  },
  "language_info": {
   "codemirror_mode": {
    "name": "ipython",
    "version": 3
   },
   "file_extension": ".py",
   "mimetype": "text/x-python",
   "name": "python",
   "nbconvert_exporter": "python",
   "pygments_lexer": "ipython3",
   "version": "3.6.5"
  }
 },
 "nbformat": 4,
 "nbformat_minor": 2
}
