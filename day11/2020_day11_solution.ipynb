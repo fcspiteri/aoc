{
 "cells": [
  {
   "cell_type": "code",
   "execution_count": 324,
   "metadata": {},
   "outputs": [],
   "source": [
    "with open('input11.txt','r') as f_open:\n",
    "    data = f_open.read()\n",
    "data = data.split('\\n')\n",
    "\n",
    "rows = len(data)\n",
    "cols = len(data[0])\n",
    "\n",
    "from collections import Counter\n",
    "import copy\n"
   ]
  },
  {
   "cell_type": "code",
   "execution_count": 325,
   "metadata": {},
   "outputs": [
    {
     "name": "stdout",
     "output_type": "stream",
     "text": [
      "0 2183\n"
     ]
    },
    {
     "data": {
      "text/plain": [
       "(7109, 7109)"
      ]
     },
     "execution_count": 325,
     "metadata": {},
     "output_type": "execute_result"
    }
   ],
   "source": [
    "def swap_seats(lst):\n",
    "    changes = 0\n",
    "    data_new = lst.copy()\n",
    "    for row in range(0, rows):\n",
    "        for col in range(0, cols):\n",
    "            adjacent = []\n",
    "            for i in range(-1, 2):\n",
    "                for j in range(-1, 2):\n",
    "                    try:\n",
    "                        if (0 <= row+i <= rows) and 0 <= col+j <= cols:\n",
    "                            adjacent.append(lst[row+i][col+j])\n",
    "                            \n",
    "                    except: \n",
    "                        continue\n",
    "            if lst[row][col] == \"L\":\n",
    "                if \"#\" not in adjacent:\n",
    "                    string = list(data_new[row])\n",
    "                    string[col] = \"#\"\n",
    "                    data_new[row] = \"\".join(string)\n",
    "                    changes = changes + 1\n",
    "            if lst[row][col] == \"#\":\n",
    "                if Counter(adjacent)[\"#\"] > 4:\n",
    "                    string = list(data_new[row])\n",
    "                    string[col] = \"L\"\n",
    "                    data_new[row] = \"\".join(string)\n",
    "                    changes = changes + 1\n",
    "    occupied = 0\n",
    "    for row in data_new:\n",
    "        occupied += row.count(\"#\")\n",
    "    if changes > 0:\n",
    "        swap_seats(data_new)\n",
    "    else:\n",
    "        print(changes, occupied)\n",
    "    return changes, occupied\n",
    "\n",
    "swap_seats(data)"
   ]
  },
  {
   "cell_type": "code",
   "execution_count": 326,
   "metadata": {},
   "outputs": [
    {
     "name": "stdout",
     "output_type": "stream",
     "text": [
      "0\n"
     ]
    }
   ],
   "source": [
    "def check_visible(dataset, row, col):\n",
    "    count_visible = 0\n",
    "    for a in range(-1, 2):\n",
    "        for b in range(-1, 2):\n",
    "            i = a\n",
    "            j = b\n",
    "            #print(row+i, col+j, dataset[row+i][col+j])\n",
    "            while True and (0 <= row+i < rows) and (0 <= col+j < cols):\n",
    "                if i == 0 and j == 0:\n",
    "                    break\n",
    "                #print(row+i, col+j, dataset[row+i][col+j])\n",
    "                if dataset[row+i][col+j] == 'L':\n",
    "                    break\n",
    "                if dataset[row+i][col+j] == '#':\n",
    "                    count_visible += 1\n",
    "                    break\n",
    "                else:\n",
    "                    j += b\n",
    "                    i += a\n",
    "    return(count_visible)\n",
    "\n",
    "print(check_visible(data, 0, 3))"
   ]
  },
  {
   "cell_type": "code",
   "execution_count": 328,
   "metadata": {},
   "outputs": [
    {
     "name": "stdout",
     "output_type": "stream",
     "text": [
      "0 1990\n"
     ]
    },
    {
     "data": {
      "text/plain": [
       "(7109, 7109)"
      ]
     },
     "execution_count": 328,
     "metadata": {},
     "output_type": "execute_result"
    }
   ],
   "source": [
    "def swap_seats(lst):\n",
    "    changes = 0\n",
    "    data_new = lst.copy()\n",
    "    for row in range(0, rows):\n",
    "        for col in range(0, cols):\n",
    "            visible = check_visible(lst, row, col)\n",
    "            #print(row, col, visible, lst[row][col])\n",
    "            if lst[row][col] == \"L\":\n",
    "                if visible == 0:\n",
    "                    string = list(data_new[row])\n",
    "                    string[col] = \"#\"\n",
    "                    data_new[row] = \"\".join(string)\n",
    "                    changes = changes + 1\n",
    "            if lst[row][col] == \"#\":\n",
    "                if visible >= 5:\n",
    "                    string = list(data_new[row])\n",
    "                    string[col] = \"L\"\n",
    "                    data_new[row] = \"\".join(string)\n",
    "                    changes = changes + 1\n",
    "            #print(row, col, visible, data_new[row][col])\n",
    "    occupied = 0\n",
    "    \n",
    "    for row in data_new:\n",
    "        occupied += row.count(\"#\")\n",
    "    if changes > 0:\n",
    "        swap_seats(data_new)\n",
    "    else:\n",
    "        print(changes, occupied)\n",
    "    return changes, occupied\n",
    "\n",
    "swap_seats(data)"
   ]
  }
 ],
 "metadata": {
  "kernelspec": {
   "display_name": "Python 3",
   "language": "python",
   "name": "python3"
  },
  "language_info": {
   "codemirror_mode": {
    "name": "ipython",
    "version": 3
   },
   "file_extension": ".py",
   "mimetype": "text/x-python",
   "name": "python",
   "nbconvert_exporter": "python",
   "pygments_lexer": "ipython3",
   "version": "3.6.5"
  }
 },
 "nbformat": 4,
 "nbformat_minor": 2
}
