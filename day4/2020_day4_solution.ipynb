{
 "cells": [
  {
   "cell_type": "code",
   "execution_count": 38,
   "metadata": {},
   "outputs": [],
   "source": [
    "import csv"
   ]
  },
  {
   "cell_type": "code",
   "execution_count": 39,
   "metadata": {},
   "outputs": [],
   "source": [
    "with open('input4.txt','r') as f_open:\n",
    "    data = f_open.read()\n",
    "\n",
    "data = data.split('\\n\\n')"
   ]
  },
  {
   "cell_type": "code",
   "execution_count": 4,
   "metadata": {},
   "outputs": [
    {
     "name": "stdout",
     "output_type": "stream",
     "text": [
      "Checked  260  passports\n",
      "Found  204  valid passports\n"
     ]
    }
   ],
   "source": [
    "#Part 1\n",
    "\n",
    "count = 0\n",
    "keys = ['byr', 'iyr', 'eyr', 'hgt', 'hcl', 'ecl', 'pid']\n",
    "valid_count = 0\n",
    "for i in range(0, len(data)):\n",
    "    count = 0\n",
    "    for key in keys:\n",
    "        if (key+':') in data[i]:\n",
    "            count = count+1\n",
    "    if count == 7:\n",
    "        valid_count = valid_count + 1\n",
    "print('Checked ', len(data), ' passports')\n",
    "print('Found ', valid_count, ' valid passports') \n",
    "    "
   ]
  },
  {
   "cell_type": "code",
   "execution_count": 5,
   "metadata": {},
   "outputs": [
    {
     "name": "stdout",
     "output_type": "stream",
     "text": [
      "Checked  260  passports\n",
      "Found  179  valid passports\n"
     ]
    }
   ],
   "source": [
    "#Part 2\n",
    "\n",
    "count = 0\n",
    "\n",
    "keys = ['byr', 'iyr', 'eyr', 'hgt', 'hcl', 'ecl', 'pid']\n",
    "eyes = ['amb', 'blu', 'brn', 'gry', 'grn', 'hzl', 'oth']\n",
    "hair = ['#','a', 'b', 'c', 'd', 'e', 'f', '0', '1', '2', '3', '4', '5','6', '7', '8', '9']\n",
    "\n",
    "new_valid = 0\n",
    "valid_count = 0\n",
    "for i in range(0, len(data)):\n",
    "    count = 0\n",
    "    for key in keys:\n",
    "        if (key+':') in data[i]:\n",
    "            count = count+1\n",
    "    if count == 7:\n",
    "        valid_count = valid_count+1\n",
    "        data[i] = data[i].replace('\\n', ' ')\n",
    "        hair_count = 0\n",
    "        byr = int(data[i].split('byr:')[1][0:4])\n",
    "        iyr = int(data[i].split('iyr:')[1][0:4])\n",
    "        eyr = int(data[i].split('eyr:')[1][0:4])\n",
    "        try:\n",
    "            hgtcm = int((data[i].split('hgt:')[1]).split('cm')[0])\n",
    "        except:\n",
    "            hgtcm = 0\n",
    "        try:\n",
    "            hgtin = int((data[i].split('hgt:')[1]).split('in')[0])\n",
    "        except:\n",
    "            hgtin = 0\n",
    "        hcl = (data[i].split('hcl:')[1]).split(' ')[0]\n",
    "        ecl = (data[i].split('ecl:')[1]).split(' ')[0]\n",
    "        pid = (data[i].split('pid:')[1]).split(' ')[0]\n",
    "\n",
    "        if (byr <= 2002 and byr >= 1920 and iyr <= 2020 and iyr >= 2010 and eyr <= 2030 and eyr >= 2020):\n",
    "            if len(pid) == 9:\n",
    "                if ecl in eyes:\n",
    "                    if (hgtcm <=193 and hgtcm >= 150) or (hgtin <= 76 and hgtin >= 59):\n",
    "                        if hcl[0] == '#':\n",
    "                            for h in hcl:\n",
    "                                if h in hair:\n",
    "                                    hair_count = hair_count + 1  \n",
    "                                if hair_count == 7:\n",
    "                                    new_valid = new_valid + 1\n",
    "        \n",
    "print('Checked ', len(data), ' passports')\n",
    "print('Found ', new_valid, ' valid passports') \n",
    "    "
   ]
  },
  {
   "cell_type": "code",
   "execution_count": 56,
   "metadata": {},
   "outputs": [
    {
     "name": "stdout",
     "output_type": "stream",
     "text": [
      "204\n"
     ]
    }
   ],
   "source": [
    "#Part 1 - cleaner solution\n",
    "\n",
    "keys = ['byr', 'iyr', 'eyr', 'hgt', 'hcl', 'ecl', 'pid']\n",
    "\n",
    "with open('input4.txt','r') as f_open:\n",
    "    data = f_open.read()\n",
    "data = data.split('\\n\\n')\n",
    "\n",
    "for d in data:\n",
    "    d = d.replace('\\n', ' ')\n",
    "    e = d.split(' ')\n",
    "    check = all(key+':' in e for key in keys)\n",
    "    if check == True:\n",
    "        count = count+1\n",
    "\n",
    "print(count)\n",
    "\n"
   ]
  },
  {
   "cell_type": "code",
   "execution_count": 63,
   "metadata": {},
   "outputs": [
    {
     "name": "stdout",
     "output_type": "stream",
     "text": [
      "byr <function <lambda> at 0x000002732933D620>\n",
      "iyr <function <lambda> at 0x000002732933D6A8>\n",
      "eyr <function <lambda> at 0x000002732933DA60>\n",
      "ecl <function <lambda> at 0x000002732933D400>\n"
     ]
    }
   ],
   "source": [
    "#Part 2 - work in progress\n",
    "\n",
    "keys = ['byr', 'iyr', 'eyr', 'hgt', 'hcl', 'ecl', 'pid']\n",
    "eyes = ['amb', 'blu', 'brn', 'gry', 'grn', 'hzl', 'oth']\n",
    "hair = ['#','a', 'b', 'c', 'd', 'e', 'f', '0', '1', '2', '3', '4', '5','6', '7', '8', '9']\n",
    "byr = [1920, 2002]\n",
    "iyr = []\n",
    "\n",
    "keys = {\n",
    "    'byr': lambda x: 1920 <= int(x) <= 2002,\n",
    "    'iyr': lambda x: 2010 <= int(x) <= 2020, \n",
    "    'eyr': lambda x: 2020 <= int(x) <= 2030, \n",
    "    'ecl': lambda x: x in eyes,\n",
    "}\n",
    "\n",
    "count = 0\n",
    "for d in data:\n",
    "    d = d.replace('\\n', ' ')\n",
    "    e = d.split(' ')\n",
    "    check = all(key+':' in e for key in keys)\n",
    "    if check == True:\n",
    "        continue\n",
    "\n",
    "for key in keys.keys():\n",
    "    print(key, keys[key])"
   ]
  },
  {
   "cell_type": "code",
   "execution_count": 55,
   "metadata": {},
   "outputs": [
    {
     "name": "stdout",
     "output_type": "stream",
     "text": [
      "True\n"
     ]
    }
   ],
   "source": [
    "key = {'byr': lambda x: 1920 <= int(x) <= 2002, 'iyr': lambda x: 2010 <= int(x) <= 2020}\n",
    "print(key['byr'](2000))"
   ]
  },
  {
   "cell_type": "code",
   "execution_count": 29,
   "metadata": {},
   "outputs": [],
   "source": [
    "ls = ['a', 'b', 'c']\n",
    "if 'c' not in ls:\n",
    "    print('yes')"
   ]
  },
  {
   "cell_type": "code",
   "execution_count": null,
   "metadata": {},
   "outputs": [],
   "source": []
  }
 ],
 "metadata": {
  "kernelspec": {
   "display_name": "Python 3",
   "language": "python",
   "name": "python3"
  },
  "language_info": {
   "codemirror_mode": {
    "name": "ipython",
    "version": 3
   },
   "file_extension": ".py",
   "mimetype": "text/x-python",
   "name": "python",
   "nbconvert_exporter": "python",
   "pygments_lexer": "ipython3",
   "version": "3.6.5"
  }
 },
 "nbformat": 4,
 "nbformat_minor": 2
}
