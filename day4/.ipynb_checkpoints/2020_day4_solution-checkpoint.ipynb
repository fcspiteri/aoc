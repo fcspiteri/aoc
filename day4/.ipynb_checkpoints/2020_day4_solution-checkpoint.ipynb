{
 "cells": [
  {
   "cell_type": "code",
   "execution_count": 195,
   "metadata": {},
   "outputs": [],
   "source": [
    "import csv"
   ]
  },
  {
   "cell_type": "code",
   "execution_count": 196,
   "metadata": {},
   "outputs": [],
   "source": [
    "with open('input4.txt','r') as f_open:\n",
    "    data = f_open.read()\n",
    "\n",
    "data = data.split('\\n\\n')"
   ]
  },
  {
   "cell_type": "code",
   "execution_count": 197,
   "metadata": {},
   "outputs": [
    {
     "name": "stdout",
     "output_type": "stream",
     "text": [
      "Checked  260  passports\n",
      "Found  204  valid passports\n"
     ]
    }
   ],
   "source": [
    "#Part 1\n",
    "\n",
    "count = 0\n",
    "'''\n",
    "byr (Birth Year)\n",
    "iyr (Issue Year)\n",
    "eyr (Expiration Year)\n",
    "hgt (Height)\n",
    "hcl (Hair Color)\n",
    "ecl (Eye Color)\n",
    "pid (Passport ID)\n",
    "cid (Country ID)\n",
    "'''\n",
    "\n",
    "keys = ['byr', 'iyr', 'eyr', 'hgt', 'hcl', 'ecl', 'pid']\n",
    "\n",
    "valid_count = 0\n",
    "for i in range(0, len(data)):\n",
    "    count = 0\n",
    "    for key in keys:\n",
    "        if (key+':') in data[i]:\n",
    "            count = count+1\n",
    "    if count == 7:\n",
    "        valid_count = valid_count + 1\n",
    "print('Checked ', len(data), ' passports')\n",
    "print('Found ', valid_count, ' valid passports') \n",
    "    "
   ]
  },
  {
   "cell_type": "code",
   "execution_count": 198,
   "metadata": {},
   "outputs": [
    {
     "name": "stdout",
     "output_type": "stream",
     "text": [
      "Checked  260  passports\n",
      "Found  179  valid passports\n"
     ]
    }
   ],
   "source": [
    "#Part 2\n",
    "\n",
    "count = 0\n",
    "'''\n",
    "byr (Birth Year)\n",
    "iyr (Issue Year)\n",
    "eyr (Expiration Year)\n",
    "hgt (Height)\n",
    "hcl (Hair Color)\n",
    "ecl (Eye Color)\n",
    "pid (Passport ID)\n",
    "cid (Country ID)\n",
    "'''\n",
    "\n",
    "keys = ['byr', 'iyr', 'eyr', 'hgt', 'hcl', 'ecl', 'pid']\n",
    "eyes = ['amb', 'blu', 'brn', 'gry', 'grn', 'hzl', 'oth']\n",
    "hair = ['#','a', 'b', 'c', 'd', 'e', 'f', '0', '1', '2', '3', '4', '5','6', '7', '8', '9']\n",
    "\n",
    "new_valid = 0\n",
    "valid_count = 0\n",
    "for i in range(0, len(data)):\n",
    "    count = 0\n",
    "    for key in keys:\n",
    "        if (key+':') in data[i]:\n",
    "            count = count+1\n",
    "    if count == 7:\n",
    "        valid_count = valid_count+1\n",
    "        data[i] = data[i].replace('\\n', ' ')\n",
    "        hair_count = 0\n",
    "        byr = int(data[i].split('byr:')[1][0:4])\n",
    "        iyr = int(data[i].split('iyr:')[1][0:4])\n",
    "        eyr = int(data[i].split('eyr:')[1][0:4])\n",
    "        try:\n",
    "            hgtcm = int((data[i].split('hgt:')[1]).split('cm')[0])\n",
    "        except:\n",
    "            hgtcm = 0\n",
    "        try:\n",
    "            hgtin = int((data[i].split('hgt:')[1]).split('in')[0])\n",
    "        except:\n",
    "            hgtin = 0\n",
    "        hcl = (data[i].split('hcl:')[1]).split(' ')[0]\n",
    "        ecl = (data[i].split('ecl:')[1]).split(' ')[0]\n",
    "        pid = (data[i].split('pid:')[1]).split(' ')[0]\n",
    "\n",
    "        if (byr <= 2002 and byr >= 1920 and iyr <= 2020 and iyr >= 2010 and eyr <= 2030 and eyr >= 2020):\n",
    "            if len(pid) == 9:\n",
    "                if ecl in eyes:\n",
    "                    if (hgtcm <=193 and hgtcm >= 150) or (hgtin <= 76 and hgtin >= 59):\n",
    "                        if hcl[0] == '#':\n",
    "                            for h in hcl:\n",
    "                                if h in hair:\n",
    "                                    hair_count = hair_count + 1  \n",
    "                                if hair_count == 7:\n",
    "                                    new_valid = new_valid + 1\n",
    "        \n",
    "print('Checked ', len(data), ' passports')\n",
    "print('Found ', new_valid, ' valid passports') \n",
    "    "
   ]
  },
  {
   "cell_type": "code",
   "execution_count": 199,
   "metadata": {},
   "outputs": [
    {
     "name": "stdout",
     "output_type": "stream",
     "text": [
      "204\n"
     ]
    }
   ],
   "source": [
    "#Part 1\n",
    "\n",
    "keys = ['byr', 'iyr', 'eyr', 'hgt', 'hcl', 'ecl', 'pid']\n",
    "\n",
    "count = 0\n",
    "\n",
    "for i in range(0, len(data)):\n",
    "    check = all(key+':' in data[i] for key in keys)\n",
    "    if check == True: \n",
    "        count = count+1\n",
    "print(count)\n",
    "\n"
   ]
  },
  {
   "cell_type": "code",
   "execution_count": 208,
   "metadata": {},
   "outputs": [
    {
     "name": "stdout",
     "output_type": "stream",
     "text": [
      "190\n"
     ]
    }
   ],
   "source": [
    "#Part 2\n",
    "\n",
    "count = 0\n",
    "\n",
    "for i in range(0, len(data)):\n",
    "    check = all(key+':' in data[i] for key in keys)\n",
    "    if check == True: \n",
    "        while check == True:\n",
    "            data[i] = data[i].replace('\\n', ' ')\n",
    "            \n",
    "            byr = int(data[i].split('byr:')[1][0:4])\n",
    "            if byr > 2002 or byr < 2020:\n",
    "                check = False\n",
    "            \n",
    "            iyr = int(data[i].split('iyr:')[1][0:4])\n",
    "            if iyr > 2020 or iyr < 2010:\n",
    "                check = False\n",
    "            \n",
    "            eyr = int(data[i].split('eyr:')[1][0:4])\n",
    "            if eyr > 2030 or eyr < 2020:\n",
    "                check = False\n",
    "            \n",
    "            try:\n",
    "                hgtcm = int((data[i].split('hgt:')[1]).split('cm')[0])\n",
    "            except:\n",
    "                hgtcm = 0\n",
    "            try:\n",
    "                hgtin = int((data[i].split('hgt:')[1]).split('in')[0])\n",
    "            except:\n",
    "                hgtin = 0\n",
    "                \n",
    "            if (hgtcm >193 or hgtcm < 150) or (hgtin > 76 or hgtin < 59):\n",
    "                check = False\n",
    "            \n",
    "            hcl = (data[i].split('hcl:')[1]).split(' ')[0]\n",
    "            hair_count = 0    \n",
    "            for h in hcl:\n",
    "                if h in hair:\n",
    "                    hair_count = hair_count + 1\n",
    "                if hair_count != 7:\n",
    "                    check = False\n",
    "                       \n",
    "            ecl = (data[i].split('ecl:')[1]).split(' ')[0]\n",
    "            if ecl in eyes:\n",
    "                check = True\n",
    "            else:\n",
    "                check = False\n",
    "            \n",
    "            pid = (data[i].split('pid:')[1]).split(' ')[0]\n",
    "            if len(pid) != 9:\n",
    "                check = False\n",
    "            if check == True:\n",
    "                count = count + 1\n",
    "            check = False\n",
    "print(count)"
   ]
  },
  {
   "cell_type": "code",
   "execution_count": 188,
   "metadata": {},
   "outputs": [
    {
     "ename": "NameError",
     "evalue": "name 'inrange' is not defined",
     "output_type": "error",
     "traceback": [
      "\u001b[1;31m---------------------------------------------------------------------------\u001b[0m",
      "\u001b[1;31mNameError\u001b[0m                                 Traceback (most recent call last)",
      "\u001b[1;32m<ipython-input-188-e0fe5056dca1>\u001b[0m in \u001b[0;36m<module>\u001b[1;34m()\u001b[0m\n\u001b[1;32m----> 1\u001b[1;33m \u001b[0minrange\u001b[0m\u001b[1;33m(\u001b[0m\u001b[1;36m5\u001b[0m\u001b[1;33m,\u001b[0m \u001b[1;36m6\u001b[0m\u001b[1;33m,\u001b[0m \u001b[1;36m7\u001b[0m\u001b[1;33m)\u001b[0m\u001b[1;33m\u001b[0m\u001b[0m\n\u001b[0m",
      "\u001b[1;31mNameError\u001b[0m: name 'inrange' is not defined"
     ]
    }
   ],
   "source": [
    "\n"
   ]
  },
  {
   "cell_type": "code",
   "execution_count": null,
   "metadata": {},
   "outputs": [],
   "source": []
  }
 ],
 "metadata": {
  "kernelspec": {
   "display_name": "Python 3",
   "language": "python",
   "name": "python3"
  },
  "language_info": {
   "codemirror_mode": {
    "name": "ipython",
    "version": 3
   },
   "file_extension": ".py",
   "mimetype": "text/x-python",
   "name": "python",
   "nbconvert_exporter": "python",
   "pygments_lexer": "ipython3",
   "version": "3.6.5"
  }
 },
 "nbformat": 4,
 "nbformat_minor": 2
}
