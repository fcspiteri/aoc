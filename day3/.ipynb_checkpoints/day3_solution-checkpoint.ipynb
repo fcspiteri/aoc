{
 "cells": [
  {
   "cell_type": "code",
   "execution_count": 1,
   "metadata": {},
   "outputs": [],
   "source": [
    "import csv"
   ]
  },
  {
   "cell_type": "code",
   "execution_count": 72,
   "metadata": {},
   "outputs": [
    {
     "name": "stdout",
     "output_type": "stream",
     "text": [
      "225\n"
     ]
    }
   ],
   "source": [
    "#Part 1\n",
    "\n",
    "with open('input3.csv') as csvfile:\n",
    "    ls = [str(l.strip()) for l in csvfile.readlines()]\n",
    "    \n",
    "col = 0\n",
    "trees = 0\n",
    "mult = int(len(ls)/len(ls[0]))*4\n",
    "\n",
    "for i in range(0, len(ls)):\n",
    "    ls[i] = ls[i]*mult\n",
    "rows = len(ls)\n",
    "columns = len(ls[0])\n",
    "for i in range(0, len(ls)):\n",
    "    if ls[i][col] == \"#\":\n",
    "        trees = trees + 1\n",
    "    col = col + 3\n",
    "    \n",
    "print(trees)"
   ]
  },
  {
   "cell_type": "code",
   "execution_count": 83,
   "metadata": {},
   "outputs": [
    {
     "name": "stdout",
     "output_type": "stream",
     "text": [
      "1115775000\n"
     ]
    }
   ],
   "source": [
    "#Part 2\n",
    "\n",
    "with open('input3.csv') as csvfile:\n",
    "    ls = [str(l.strip()) for l in csvfile.readlines()]\n",
    "    \n",
    "mult = int(len(ls)/len(ls[0]))*10\n",
    "\n",
    "for i in range(0, len(ls)):\n",
    "    ls[i] = ls[i]*mult\n",
    "rows = len(ls)\n",
    "columns = len(ls[0])\n",
    "\n",
    "def trees(rise, run):\n",
    "    col = 0\n",
    "    trees = 0\n",
    "    new_ls = ls[0::run]\n",
    "    for i in range(0, len(new_ls)):\n",
    "        if new_ls[i][col] == \"#\":\n",
    "            trees = trees + 1\n",
    "        col = col + rise\n",
    "    return(trees)\n",
    "print(trees(1, 1)*trees(3, 1)*trees(5, 1)*trees(7, 1)*trees(1, 2))\n"
   ]
  },
  {
   "cell_type": "code",
   "execution_count": 8,
   "metadata": {},
   "outputs": [
    {
     "name": "stdout",
     "output_type": "stream",
     "text": [
      "Part 1 solution:  225\n",
      "Part 2 soltion:  1115775000\n"
     ]
    }
   ],
   "source": [
    "''' Cleaner solution '''\n",
    "\n",
    "#Open csv file into list\n",
    "with open('input3.csv') as csvfile:\n",
    "    ls = [str(l.strip()) for l in csvfile.readlines()]\n",
    "    \n",
    "def trees(rise, run):\n",
    "    column = 0\n",
    "    trees = 0\n",
    "    new_ls = ls[0::rise] #Make new list that only includes rows in our slope\n",
    "    for i in range(0, len(new_ls)):\n",
    "        while column >= len(new_ls[i]):\n",
    "            new_ls[i] = new_ls[i]+new_ls[i]\n",
    "        if new_ls[i][column] == '#':\n",
    "            trees = trees + 1\n",
    "        column = column + run\n",
    "    return (trees)\n",
    "\n",
    "#Part 1\n",
    "print('Part 1 solution: ',trees(1, 3))\n",
    "\n",
    "#Part 2\n",
    "print('Part 2 soltion: ', trees(1, 1)*trees(1, 3)*trees(1, 5)*trees(1, 7)*trees(2, 1))"
   ]
  },
  {
   "cell_type": "code",
   "execution_count": null,
   "metadata": {},
   "outputs": [],
   "source": []
  }
 ],
 "metadata": {
  "kernelspec": {
   "display_name": "Python 3",
   "language": "python",
   "name": "python3"
  },
  "language_info": {
   "codemirror_mode": {
    "name": "ipython",
    "version": 3
   },
   "file_extension": ".py",
   "mimetype": "text/x-python",
   "name": "python",
   "nbconvert_exporter": "python",
   "pygments_lexer": "ipython3",
   "version": "3.6.5"
  }
 },
 "nbformat": 4,
 "nbformat_minor": 2
}
