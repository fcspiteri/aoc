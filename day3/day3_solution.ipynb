{
 "cells": [
  {
   "cell_type": "code",
   "execution_count": 1,
   "metadata": {},
   "outputs": [],
   "source": [
    "import csv"
   ]
  },
  {
   "cell_type": "code",
   "execution_count": 2,
   "metadata": {},
   "outputs": [
    {
     "data": {
      "text/plain": [
       "\"\\n--- Day 3: Toboggan Trajectory ---\\nWith the toboggan login problems resolved, you set off toward the airport. While travel by toboggan might be easy, it's certainly not safe: there's very minimal steering and the area is covered in trees. You'll need to see which angles will take you near the fewest trees.\\n\\nDue to the local geology, trees in this area only grow on exact integer coordinates in a grid. You make a map (your puzzle input) of the open squares (.) and trees (#) you can see. For example:\\n\\n..##.......\\n#...#...#..\\n.#....#..#.\\n..#.#...#.#\\n.#...##..#.\\n..#.##.....\\n.#.#.#....#\\n.#........#\\n#.##...#...\\n#...##....#\\n.#..#...#.#\\nThese aren't the only trees, though; due to something you read about once involving arboreal genetics and biome stability, the same pattern repeats to the right many times:\\n\\n..##.........##.........##.........##.........##.........##.......  --->\\n#...#...#..#...#...#..#...#...#..#...#...#..#...#...#..#...#...#..\\n.#....#..#..#....#..#..#....#..#..#....#..#..#....#..#..#....#..#.\\n..#.#...#.#..#.#...#.#..#.#...#.#..#.#...#.#..#.#...#.#..#.#...#.#\\n.#...##..#..#...##..#..#...##..#..#...##..#..#...##..#..#...##..#.\\n..#.##.......#.##.......#.##.......#.##.......#.##.......#.##.....  --->\\n.#.#.#....#.#.#.#....#.#.#.#....#.#.#.#....#.#.#.#....#.#.#.#....#\\n.#........#.#........#.#........#.#........#.#........#.#........#\\n#.##...#...#.##...#...#.##...#...#.##...#...#.##...#...#.##...#...\\n#...##....##...##....##...##....##...##....##...##....##...##....#\\n.#..#...#.#.#..#...#.#.#..#...#.#.#..#...#.#.#..#...#.#.#..#...#.#  --->\\nYou start on the open square (.) in the top-left corner and need to reach the bottom (below the bottom-most row on your map).\\n\\nThe toboggan can only follow a few specific slopes (you opted for a cheaper model that prefers rational numbers); start by counting all the trees you would encounter for the slope right 3, down 1:\\n\\nFrom your starting position at the top-left, check the position that is right 3 and down 1. Then, check the position that is right 3 and down 1 from there, and so on until you go past the bottom of the map.\\n\\nThe locations you'd check in the above example are marked here with O where there was an open square and X where there was a tree:\\n\\n..##.........##.........##.........##.........##.........##.......  --->\\n#..O#...#..#...#...#..#...#...#..#...#...#..#...#...#..#...#...#..\\n.#....X..#..#....#..#..#....#..#..#....#..#..#....#..#..#....#..#.\\n..#.#...#O#..#.#...#.#..#.#...#.#..#.#...#.#..#.#...#.#..#.#...#.#\\n.#...##..#..X...##..#..#...##..#..#...##..#..#...##..#..#...##..#.\\n..#.##.......#.X#.......#.##.......#.##.......#.##.......#.##.....  --->\\n.#.#.#....#.#.#.#.O..#.#.#.#....#.#.#.#....#.#.#.#....#.#.#.#....#\\n.#........#.#........X.#........#.#........#.#........#.#........#\\n#.##...#...#.##...#...#.X#...#...#.##...#...#.##...#...#.##...#...\\n#...##....##...##....##...#X....##...##....##...##....##...##....#\\n.#..#...#.#.#..#...#.#.#..#...X.#.#..#...#.#.#..#...#.#.#..#...#.#  --->\\nIn this example, traversing the map using this slope would cause you to encounter 7 trees.\\n\\nStarting at the top-left corner of your map and following a slope of right 3 and down 1, how many trees would you encounter?\\n\""
      ]
     },
     "execution_count": 2,
     "metadata": {},
     "output_type": "execute_result"
    }
   ],
   "source": [
    "'''\n",
    "--- Day 3: Toboggan Trajectory ---\n",
    "With the toboggan login problems resolved, you set off toward the airport. While travel by toboggan might be easy, it's certainly not safe: there's very minimal steering and the area is covered in trees. You'll need to see which angles will take you near the fewest trees.\n",
    "\n",
    "Due to the local geology, trees in this area only grow on exact integer coordinates in a grid. You make a map (your puzzle input) of the open squares (.) and trees (#) you can see. For example:\n",
    "\n",
    "..##.......\n",
    "#...#...#..\n",
    ".#....#..#.\n",
    "..#.#...#.#\n",
    ".#...##..#.\n",
    "..#.##.....\n",
    ".#.#.#....#\n",
    ".#........#\n",
    "#.##...#...\n",
    "#...##....#\n",
    ".#..#...#.#\n",
    "These aren't the only trees, though; due to something you read about once involving arboreal genetics and biome stability, the same pattern repeats to the right many times:\n",
    "\n",
    "..##.........##.........##.........##.........##.........##.......  --->\n",
    "#...#...#..#...#...#..#...#...#..#...#...#..#...#...#..#...#...#..\n",
    ".#....#..#..#....#..#..#....#..#..#....#..#..#....#..#..#....#..#.\n",
    "..#.#...#.#..#.#...#.#..#.#...#.#..#.#...#.#..#.#...#.#..#.#...#.#\n",
    ".#...##..#..#...##..#..#...##..#..#...##..#..#...##..#..#...##..#.\n",
    "..#.##.......#.##.......#.##.......#.##.......#.##.......#.##.....  --->\n",
    ".#.#.#....#.#.#.#....#.#.#.#....#.#.#.#....#.#.#.#....#.#.#.#....#\n",
    ".#........#.#........#.#........#.#........#.#........#.#........#\n",
    "#.##...#...#.##...#...#.##...#...#.##...#...#.##...#...#.##...#...\n",
    "#...##....##...##....##...##....##...##....##...##....##...##....#\n",
    ".#..#...#.#.#..#...#.#.#..#...#.#.#..#...#.#.#..#...#.#.#..#...#.#  --->\n",
    "You start on the open square (.) in the top-left corner and need to reach the bottom (below the bottom-most row on your map).\n",
    "\n",
    "The toboggan can only follow a few specific slopes (you opted for a cheaper model that prefers rational numbers); start by counting all the trees you would encounter for the slope right 3, down 1:\n",
    "\n",
    "From your starting position at the top-left, check the position that is right 3 and down 1. Then, check the position that is right 3 and down 1 from there, and so on until you go past the bottom of the map.\n",
    "\n",
    "The locations you'd check in the above example are marked here with O where there was an open square and X where there was a tree:\n",
    "\n",
    "..##.........##.........##.........##.........##.........##.......  --->\n",
    "#..O#...#..#...#...#..#...#...#..#...#...#..#...#...#..#...#...#..\n",
    ".#....X..#..#....#..#..#....#..#..#....#..#..#....#..#..#....#..#.\n",
    "..#.#...#O#..#.#...#.#..#.#...#.#..#.#...#.#..#.#...#.#..#.#...#.#\n",
    ".#...##..#..X...##..#..#...##..#..#...##..#..#...##..#..#...##..#.\n",
    "..#.##.......#.X#.......#.##.......#.##.......#.##.......#.##.....  --->\n",
    ".#.#.#....#.#.#.#.O..#.#.#.#....#.#.#.#....#.#.#.#....#.#.#.#....#\n",
    ".#........#.#........X.#........#.#........#.#........#.#........#\n",
    "#.##...#...#.##...#...#.X#...#...#.##...#...#.##...#...#.##...#...\n",
    "#...##....##...##....##...#X....##...##....##...##....##...##....#\n",
    ".#..#...#.#.#..#...#.#.#..#...X.#.#..#...#.#.#..#...#.#.#..#...#.#  --->\n",
    "In this example, traversing the map using this slope would cause you to encounter 7 trees.\n",
    "\n",
    "Starting at the top-left corner of your map and following a slope of right 3 and down 1, how many trees would you encounter?\n",
    "'''"
   ]
  },
  {
   "cell_type": "code",
   "execution_count": null,
   "metadata": {},
   "outputs": [],
   "source": [
    "#Part 1\n",
    "with open('input3.csv') as csvfile:\n",
    "    ls = [str(l.strip()) for l in csvfile.readlines()]\n",
    "    \n",
    "col = 0\n",
    "trees = 0\n",
    "mult = int(len(ls)/len(ls[0]))*4\n",
    "\n",
    "for i in range(0, len(ls)):\n",
    "    ls[i] = ls[i]*mult\n",
    "rows = len(ls)\n",
    "columns = len(ls[0])\n",
    "for i in range(0, len(ls)):\n",
    "    if ls[i][col] == \"#\":\n",
    "        trees = trees + 1\n",
    "    col = col + 3\n",
    "    \n",
    "print(trees)"
   ]
  },
  {
   "cell_type": "code",
   "execution_count": 4,
   "metadata": {},
   "outputs": [
    {
     "data": {
      "text/plain": [
       "'\\n--- Part Two ---\\nTime to check the rest of the slopes - you need to minimize the probability of a sudden arboreal stop, after all.\\n\\nDetermine the number of trees you would encounter if, for each of the following slopes, you start at the top-left corner and traverse the map all the way to the bottom:\\n\\nRight 1, down 1.\\nRight 3, down 1. (This is the slope you already checked.)\\nRight 5, down 1.\\nRight 7, down 1.\\nRight 1, down 2.\\nIn the above example, these slopes would find 2, 7, 3, 4, and 2 tree(s) respectively; multiplied together, these produce the answer 336.\\n\\nWhat do you get if you multiply together the number of trees encountered on each of the listed slopes?\\n'"
      ]
     },
     "execution_count": 4,
     "metadata": {},
     "output_type": "execute_result"
    }
   ],
   "source": [
    "'''\n",
    "--- Part Two ---\n",
    "Time to check the rest of the slopes - you need to minimize the probability of a sudden arboreal stop, after all.\n",
    "\n",
    "Determine the number of trees you would encounter if, for each of the following slopes, you start at the top-left corner and traverse the map all the way to the bottom:\n",
    "\n",
    "Right 1, down 1.\n",
    "Right 3, down 1. (This is the slope you already checked.)\n",
    "Right 5, down 1.\n",
    "Right 7, down 1.\n",
    "Right 1, down 2.\n",
    "In the above example, these slopes would find 2, 7, 3, 4, and 2 tree(s) respectively; multiplied together, these produce the answer 336.\n",
    "\n",
    "What do you get if you multiply together the number of trees encountered on each of the listed slopes?\n",
    "'''"
   ]
  },
  {
   "cell_type": "code",
   "execution_count": 5,
   "metadata": {},
   "outputs": [
    {
     "name": "stdout",
     "output_type": "stream",
     "text": [
      "1115775000\n"
     ]
    }
   ],
   "source": [
    "#Part 2\n",
    "with open('input3.csv') as csvfile:\n",
    "    ls = [str(l.strip()) for l in csvfile.readlines()]\n",
    "    \n",
    "mult = int(len(ls)/len(ls[0]))*10\n",
    "\n",
    "for i in range(0, len(ls)):\n",
    "    ls[i] = ls[i]*mult\n",
    "rows = len(ls)\n",
    "columns = len(ls[0])\n",
    "\n",
    "def trees(rise, run):\n",
    "    col = 0\n",
    "    trees = 0\n",
    "    new_ls = ls[0::run]\n",
    "    for i in range(0, len(new_ls)):\n",
    "        if new_ls[i][col] == \"#\":\n",
    "            trees = trees + 1\n",
    "        col = col + rise\n",
    "    return(trees)\n",
    "print(trees(1, 1)*trees(3, 1)*trees(5, 1)*trees(7, 1)*trees(1, 2))\n"
   ]
  },
  {
   "cell_type": "code",
   "execution_count": 6,
   "metadata": {},
   "outputs": [
    {
     "name": "stdout",
     "output_type": "stream",
     "text": [
      "Part 1 solution:  225\n",
      "Part 2 soltion:  1115775000\n"
     ]
    }
   ],
   "source": [
    "''' Cleaner solution '''\n",
    "\n",
    "#Open csv file into list\n",
    "with open('input3.csv') as csvfile:\n",
    "    ls = [str(l.strip()) for l in csvfile.readlines()]\n",
    "    \n",
    "def trees(rise, run):\n",
    "    trees = 0\n",
    "    new_ls = ls[0::rise] #Make new list that only includes rows in our slope\n",
    "    for i in range(0, len(new_ls)):\n",
    "        column = i*run%len(new_ls[i])\n",
    "        if new_ls[i][column] == '#':\n",
    "            trees = trees + 1\n",
    "    return (trees)\n",
    "\n",
    "#Part 1\n",
    "print('Part 1 solution: ',trees(1, 3))\n",
    "\n",
    "#Part 2\n",
    "print('Part 2 soltion: ', trees(1, 1)*trees(1, 3)*trees(1, 5)*trees(1, 7)*trees(2, 1))"
   ]
  },
  {
   "cell_type": "code",
   "execution_count": null,
   "metadata": {},
   "outputs": [],
   "source": []
  }
 ],
 "metadata": {
  "kernelspec": {
   "display_name": "Python 3",
   "language": "python",
   "name": "python3"
  },
  "language_info": {
   "codemirror_mode": {
    "name": "ipython",
    "version": 3
   },
   "file_extension": ".py",
   "mimetype": "text/x-python",
   "name": "python",
   "nbconvert_exporter": "python",
   "pygments_lexer": "ipython3",
   "version": "3.6.5"
  }
 },
 "nbformat": 4,
 "nbformat_minor": 2
}
