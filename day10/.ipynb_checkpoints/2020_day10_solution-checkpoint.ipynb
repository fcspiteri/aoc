{
 "cells": [
  {
   "cell_type": "code",
   "execution_count": 49,
   "metadata": {},
   "outputs": [],
   "source": [
    "with open('input10.txt','r') as f_open:\n",
    "    data = f_open.read()\n",
    "data = data.split('\\n')\n",
    "\n",
    "for i in range(0, len(data)):\n",
    "    data[i] = int(data[i])"
   ]
  },
  {
   "cell_type": "code",
   "execution_count": 50,
   "metadata": {},
   "outputs": [
    {
     "name": "stdout",
     "output_type": "stream",
     "text": [
      "69 33\n",
      "2277\n"
     ]
    }
   ],
   "source": [
    "data.append(0)\n",
    "data.append(max(data)+3)\n",
    "data.sort()\n",
    "\n",
    "one = 0\n",
    "two = 0\n",
    "three = 0\n",
    "\n",
    "max_jolt = max(data)+3\n",
    "\n",
    "for i in range(0, len(data)-1):\n",
    "    if max_jolt - 3 == data[i]:\n",
    "        break\n",
    "    if data[i]+1 == data[i+1]:\n",
    "        one += 1\n",
    "    elif data[i]+2 == data[i+1]:\n",
    "        two += 1\n",
    "    elif data[i]+3 == data[i+1]:\n",
    "        three += 1\n",
    "    else:\n",
    "        break\n",
    "print(one, three)\n",
    "print(one*three)"
   ]
  },
  {
   "cell_type": "code",
   "execution_count": 55,
   "metadata": {},
   "outputs": [
    {
     "name": "stdout",
     "output_type": "stream",
     "text": [
      "37024595836928\n"
     ]
    }
   ],
   "source": [
    "combos = [0]*len(data)\n",
    "combos[0] = 1\n",
    "\n",
    "for i in range(0,len(data)-1):\n",
    "    for j in range(0,i):\n",
    "        if data[i] - data[j] <= 3:\n",
    "            combos[i] += combos[j]\n",
    "\n",
    "print(combos[-2])\n"
   ]
  }
 ],
 "metadata": {
  "kernelspec": {
   "display_name": "Python 3",
   "language": "python",
   "name": "python3"
  },
  "language_info": {
   "codemirror_mode": {
    "name": "ipython",
    "version": 3
   },
   "file_extension": ".py",
   "mimetype": "text/x-python",
   "name": "python",
   "nbconvert_exporter": "python",
   "pygments_lexer": "ipython3",
   "version": "3.6.5"
  }
 },
 "nbformat": 4,
 "nbformat_minor": 2
}
