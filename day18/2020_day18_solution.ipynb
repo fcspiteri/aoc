{
 "cells": [
  {
   "cell_type": "code",
   "execution_count": 1,
   "metadata": {},
   "outputs": [],
   "source": [
    "with open('input18.txt','r') as f_open:\n",
    "    data = f_open.read()\n",
    "data = data.split('\\n')"
   ]
  },
  {
   "cell_type": "code",
   "execution_count": 2,
   "metadata": {},
   "outputs": [],
   "source": [
    "import re\n",
    "\n",
    "class operators(int):\n",
    "    def __mul__(self, b):\n",
    "        return operators(int(self) + b)\n",
    "    \n",
    "    def __add__(self, b):\n",
    "        return operators(int(self) + b)\n",
    "    \n",
    "    def __sub__(self, b):\n",
    "        return operators(int(self) * b)\n",
    "\n",
    "def run(function):\n",
    "    function = re.sub(r'(\\d+)', r'operators(\\1)', function)\n",
    "    function = function.replace('*', '-')\n",
    "    return eval(function, {}, {'operators': operators})\n",
    "\n",
    "def run2(function):\n",
    "    function = re.sub(r'(\\d+)', r'operators(\\1)', function)\n",
    "    function = function.replace('*', '-')\n",
    "    function = function.replace('+', '*')\n",
    "    return eval(function, {}, {'operators': operators})"
   ]
  },
  {
   "cell_type": "code",
   "execution_count": 3,
   "metadata": {},
   "outputs": [
    {
     "name": "stdout",
     "output_type": "stream",
     "text": [
      "12956356593940\n"
     ]
    }
   ],
   "source": [
    "#part 1\n",
    "count = 0\n",
    "for line in data:\n",
    "    count += run(line)\n",
    "print(count)"
   ]
  },
  {
   "cell_type": "code",
   "execution_count": 4,
   "metadata": {},
   "outputs": [
    {
     "name": "stdout",
     "output_type": "stream",
     "text": [
      "94240043727614\n"
     ]
    }
   ],
   "source": [
    "#part2\n",
    "count = 0\n",
    "for line in data:\n",
    "    count += run2(line)\n",
    "print(count)"
   ]
  },
  {
   "cell_type": "code",
   "execution_count": null,
   "metadata": {},
   "outputs": [],
   "source": []
  }
 ],
 "metadata": {
  "kernelspec": {
   "display_name": "Python 3",
   "language": "python",
   "name": "python3"
  },
  "language_info": {
   "codemirror_mode": {
    "name": "ipython",
    "version": 3
   },
   "file_extension": ".py",
   "mimetype": "text/x-python",
   "name": "python",
   "nbconvert_exporter": "python",
   "pygments_lexer": "ipython3",
   "version": "3.6.5"
  }
 },
 "nbformat": 4,
 "nbformat_minor": 2
}
