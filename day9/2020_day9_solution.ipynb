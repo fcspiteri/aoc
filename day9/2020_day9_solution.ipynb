{
 "cells": [
  {
   "cell_type": "code",
   "execution_count": 1,
   "metadata": {},
   "outputs": [],
   "source": [
    "import csv\n",
    "\n",
    "with open('input9.csv') as csvfile:\n",
    "    data = [str(l.strip()) for l in csvfile.readlines()]\n",
    "    \n",
    "for i in range(0, len(data)):\n",
    "    data[i] = int(data[i])"
   ]
  },
  {
   "cell_type": "code",
   "execution_count": 3,
   "metadata": {},
   "outputs": [
    {
     "name": "stdout",
     "output_type": "stream",
     "text": [
      "508 26796446\n"
     ]
    }
   ],
   "source": [
    "from itertools import combinations\n",
    "\n",
    "def findPairs(lst, num): \n",
    "    return [pair for pair in combinations(lst, 2) if sum(pair) == num] \n",
    "run = True\n",
    "while run == True:\n",
    "    for i in range(26, len(data)):\n",
    "        if run == True:\n",
    "            combos = findPairs(data[i-26:-1], int(data[i]))\n",
    "            if len(combos) > 0:\n",
    "                continue\n",
    "            else: \n",
    "                print(i, data[i])\n",
    "                run = False\n",
    "        "
   ]
  },
  {
   "cell_type": "code",
   "execution_count": 4,
   "metadata": {},
   "outputs": [
    {
     "name": "stdout",
     "output_type": "stream",
     "text": [
      "3353494\n"
     ]
    }
   ],
   "source": [
    "run = True\n",
    "while run == True:\n",
    "    for i in range(0, 507):\n",
    "        if run == True:\n",
    "            ls = data[i:507]\n",
    "            for j in range(2, 507):\n",
    "                if sum(ls[i:i+j]) == data[508]:\n",
    "                    print (sum((min(ls[i:i+j]), max(ls[i:i+j]))))\n",
    "                    run = False\n",
    "        else:\n",
    "            run = False\n",
    "        "
   ]
  },
  {
   "cell_type": "code",
   "execution_count": null,
   "metadata": {},
   "outputs": [],
   "source": []
  },
  {
   "cell_type": "code",
   "execution_count": null,
   "metadata": {},
   "outputs": [],
   "source": []
  }
 ],
 "metadata": {
  "kernelspec": {
   "display_name": "Python 3",
   "language": "python",
   "name": "python3"
  },
  "language_info": {
   "codemirror_mode": {
    "name": "ipython",
    "version": 3
   },
   "file_extension": ".py",
   "mimetype": "text/x-python",
   "name": "python",
   "nbconvert_exporter": "python",
   "pygments_lexer": "ipython3",
   "version": "3.6.5"
  }
 },
 "nbformat": 4,
 "nbformat_minor": 2
}
