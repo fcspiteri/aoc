{
 "cells": [
  {
   "cell_type": "code",
   "execution_count": 112,
   "metadata": {},
   "outputs": [],
   "source": [
    "import math\n",
    "\n",
    "with open('input12.txt','r') as f_open:\n",
    "    data = f_open.read()\n",
    "data = data.split('\\n')\n",
    "\n",
    "    "
   ]
  },
  {
   "cell_type": "code",
   "execution_count": 113,
   "metadata": {},
   "outputs": [
    {
     "name": "stdout",
     "output_type": "stream",
     "text": [
      "562.0\n"
     ]
    }
   ],
   "source": [
    "x = 0\n",
    "y = 0\n",
    "angle = 0\n",
    "direction = 0\n",
    "            \n",
    "for row in data:\n",
    "    action = row[0]\n",
    "    value = float(row[1:])\n",
    "    if action == 'F':\n",
    "        if angle % 360 == 0:\n",
    "            action = 'E'\n",
    "        if angle % 360 == 90:\n",
    "            action = 'N'\n",
    "        if angle % 360 == 180:\n",
    "            action = 'W'\n",
    "        if angle % 360 == 270:\n",
    "            action = 'S'       \n",
    "    if action == 'N':\n",
    "        y += value\n",
    "    if action == 'S':\n",
    "        y -= value\n",
    "    if action == 'E':\n",
    "        x += value\n",
    "    if action == 'W':\n",
    "        x -= value\n",
    "    if action == 'L':\n",
    "        angle += value\n",
    "    if action == 'R':\n",
    "        angle -= value    \n",
    "print(abs(x)+abs(y))"
   ]
  },
  {
   "cell_type": "code",
   "execution_count": 115,
   "metadata": {},
   "outputs": [
    {
     "name": "stdout",
     "output_type": "stream",
     "text": [
      "101860.0\n"
     ]
    }
   ],
   "source": [
    "x = 0\n",
    "y = 0\n",
    "wx = 10\n",
    "wy = 1\n",
    "angle = 0\n",
    "direction = 0\n",
    "            \n",
    "for row in data:\n",
    "    action = row[0]\n",
    "    value = float(row[1:])\n",
    "    if action == 'F':\n",
    "        x += wx * value\n",
    "        y += wy * value\n",
    "    if action == 'N':\n",
    "        wy += value\n",
    "    if action == 'S':\n",
    "        wy -= value\n",
    "    if action == 'E':\n",
    "        wx += value\n",
    "    if action == 'W':\n",
    "        wx -= value\n",
    "    if action == 'L':\n",
    "        for i in range(0, int(value/90)):\n",
    "            wx, wy = -wy, wx\n",
    "    if action == 'R':\n",
    "        for i in range(0, int(value/90)):\n",
    "            wx, wy = wy, -wx\n",
    "print(abs(x)+abs(y))"
   ]
  },
  {
   "cell_type": "code",
   "execution_count": null,
   "metadata": {},
   "outputs": [],
   "source": []
  }
 ],
 "metadata": {
  "kernelspec": {
   "display_name": "Python 3",
   "language": "python",
   "name": "python3"
  },
  "language_info": {
   "codemirror_mode": {
    "name": "ipython",
    "version": 3
   },
   "file_extension": ".py",
   "mimetype": "text/x-python",
   "name": "python",
   "nbconvert_exporter": "python",
   "pygments_lexer": "ipython3",
   "version": "3.6.5"
  }
 },
 "nbformat": 4,
 "nbformat_minor": 2
}
