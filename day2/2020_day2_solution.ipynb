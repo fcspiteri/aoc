{
 "cells": [
  {
   "cell_type": "code",
   "execution_count": 43,
   "metadata": {},
   "outputs": [],
   "source": [
    "import csv\n",
    "\n",
    "with open('input2.csv') as csvfile:\n",
    "    ls = [str(l.strip()) for l in csvfile.readlines()]"
   ]
  },
  {
   "cell_type": "code",
   "execution_count": 44,
   "metadata": {},
   "outputs": [
    {
     "name": "stdout",
     "output_type": "stream",
     "text": [
      "414\n"
     ]
    }
   ],
   "source": [
    "#Part 1 \n",
    "pw_count = 0\n",
    "for i in range(0, len(ls)):\n",
    "    mn =  int((ls[i].split(' ')[0]).split('-')[0])\n",
    "    mx =  int((ls[i].split(' ')[0]).split('-')[1])\n",
    "    char = (ls[i].split(' ')[1]).split(':')[0]\n",
    "    pw = ls[i].split(' ' )[2]\n",
    "    \n",
    "    count = 0\n",
    "    for j in pw: \n",
    "        if j == char: \n",
    "            count = count + 1\n",
    "    if count >= mn and count <= mx:\n",
    "        pw_count = pw_count + 1\n",
    "            \n",
    "print (pw_count)"
   ]
  },
  {
   "cell_type": "code",
   "execution_count": 45,
   "metadata": {},
   "outputs": [
    {
     "name": "stdout",
     "output_type": "stream",
     "text": [
      "413\n"
     ]
    }
   ],
   "source": [
    "#Part 2\n",
    "pw_count = 0\n",
    "for i in range(0, len(ls)):\n",
    "    pos1 =  int((ls[i].split(' ')[0]).split('-')[0])-1\n",
    "    pos2 =  int((ls[i].split(' ')[0]).split('-')[1])-1\n",
    "    char = (ls[i].split(' ')[1]).split(':')[0]\n",
    "    pw = ls[i].split(' ' )[2]\n",
    "    \n",
    "    if pw[pos1] == char and pw[pos2] != char:\n",
    "        pw_count = pw_count + 1\n",
    "    if pw[pos1] != char and pw[pos2] == char:\n",
    "        pw_count = pw_count + 1\n",
    "            \n",
    "print (pw_count)"
   ]
  },
  {
   "cell_type": "code",
   "execution_count": null,
   "metadata": {},
   "outputs": [],
   "source": []
  },
  {
   "cell_type": "code",
   "execution_count": null,
   "metadata": {},
   "outputs": [],
   "source": []
  }
 ],
 "metadata": {
  "kernelspec": {
   "display_name": "Python 3",
   "language": "python",
   "name": "python3"
  },
  "language_info": {
   "codemirror_mode": {
    "name": "ipython",
    "version": 3
   },
   "file_extension": ".py",
   "mimetype": "text/x-python",
   "name": "python",
   "nbconvert_exporter": "python",
   "pygments_lexer": "ipython3",
   "version": "3.6.5"
  }
 },
 "nbformat": 4,
 "nbformat_minor": 2
}
