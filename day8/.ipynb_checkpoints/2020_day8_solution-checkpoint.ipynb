{
 "cells": [
  {
   "cell_type": "code",
   "execution_count": 141,
   "metadata": {},
   "outputs": [
    {
     "name": "stdout",
     "output_type": "stream",
     "text": [
      "(1331, 'infinite')\n"
     ]
    }
   ],
   "source": [
    "with open('input8.txt','r') as f_open:\n",
    "    data = f_open.read()\n",
    "data = data.split('\\n')\n",
    "\n",
    "def step1(line):\n",
    "    lines_experienced = []\n",
    "    accumulated = 0\n",
    "    list_index = 0\n",
    "    state = 'running'\n",
    "    while True:\n",
    "        if list_index in lines_experienced:\n",
    "            state = 'infinite'\n",
    "            break\n",
    "        if list_index > len(data)-1:\n",
    "            state = 'finished'\n",
    "            break\n",
    "        if line == len(data)-1:\n",
    "            print(list_index, len(data))\n",
    "            state = 'finished'\n",
    "            break\n",
    "        op, arg = data[list_index].split(' ')\n",
    "        arg = int(arg)\n",
    "        lines_experienced.append(list_index)\n",
    "        if op == 'acc':\n",
    "            accumulated += arg\n",
    "            list_index += 1\n",
    "        elif op == 'jmp':\n",
    "            list_index += arg\n",
    "        else:\n",
    "            list_index += 1\n",
    "    return accumulated, state\n",
    "\n",
    "print(step1(0))"
   ]
  },
  {
   "cell_type": "code",
   "execution_count": 142,
   "metadata": {
    "scrolled": true
   },
   "outputs": [
    {
     "name": "stdout",
     "output_type": "stream",
     "text": [
      "Finished!  1121\n"
     ]
    }
   ],
   "source": [
    "with open('input8.txt','r') as f_open:\n",
    "    data = f_open.read()\n",
    "data = data.split('\\n')\n",
    "\n",
    "for i in range(0, len(data)):\n",
    "    if 'acc' in data[i]:\n",
    "        continue\n",
    "    elif 'jmp' in data[i]:\n",
    "        data[i] = data[i].replace('jmp', 'nop')\n",
    "        acc, state = step1(0)\n",
    "        if state == 'finished':\n",
    "            print('Finished! ', acc)\n",
    "            break\n",
    "        else:\n",
    "            data[i] = data[i].replace('nop', 'jmp')\n",
    "    elif 'nop' in data[i]:\n",
    "        data[i] = data[i].replace('nop', 'jmp')\n",
    "        acc, state = step1(0)\n",
    "        if state == 'finished':\n",
    "            print('Finished! ', acc)\n",
    "            break\n",
    "        else:\n",
    "            data[i] = data[i].replace('jmp', 'nop')"
   ]
  },
  {
   "cell_type": "code",
   "execution_count": null,
   "metadata": {},
   "outputs": [],
   "source": []
  }
 ],
 "metadata": {
  "kernelspec": {
   "display_name": "Python 3",
   "language": "python",
   "name": "python3"
  },
  "language_info": {
   "codemirror_mode": {
    "name": "ipython",
    "version": 3
   },
   "file_extension": ".py",
   "mimetype": "text/x-python",
   "name": "python",
   "nbconvert_exporter": "python",
   "pygments_lexer": "ipython3",
   "version": "3.6.5"
  }
 },
 "nbformat": 4,
 "nbformat_minor": 2
}
