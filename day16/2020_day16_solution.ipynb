{
 "cells": [
  {
   "cell_type": "code",
   "execution_count": 32,
   "metadata": {},
   "outputs": [],
   "source": [
    "with open('input16.txt','r') as f_open:\n",
    "    data = f_open.read()\n",
    "data = data.split('\\n\\n')"
   ]
  },
  {
   "cell_type": "code",
   "execution_count": 33,
   "metadata": {},
   "outputs": [
    {
     "name": "stdout",
     "output_type": "stream",
     "text": [
      "24110\n"
     ]
    }
   ],
   "source": [
    "rules = data[0].split('\\n')\n",
    "my_ticket = data[1]\n",
    "near_tickets = data[2].split('\\n')\n",
    "\n",
    "valid_nums = []\n",
    "for rule in rules:\n",
    "    temp = rule.split(': ')[1].replace('-',',').replace(' or ', ',')\n",
    "    temp = temp.split(',')\n",
    "    for i in range(0, int(temp[1])-int(temp[0])):\n",
    "        num_to_add = int(temp[0])+i\n",
    "        if num_to_add in valid_nums:\n",
    "            continue\n",
    "        else:\n",
    "            valid_nums.append(num_to_add)\n",
    "    for i in range(0, int(temp[3])-int(temp[2])):\n",
    "        num_to_add = int(temp[2])+i\n",
    "        if num_to_add in valid_nums:\n",
    "            continue\n",
    "        else:\n",
    "            valid_nums.append(num_to_add)\n",
    "valid_nums.sort()\n",
    "valid_tickets = []\n",
    "invalid_values = []\n",
    "for i in range(1, len(near_tickets)):\n",
    "    temp = near_tickets[i].split(',')\n",
    "    for num in temp:\n",
    "        if int(num) not in valid_nums:\n",
    "            invalid_values.append(int(num))\n",
    "        else:\n",
    "            valid_tickets.append(temp)\n",
    "print(sum(invalid_values))"
   ]
  },
  {
   "cell_type": "code",
   "execution_count": 72,
   "metadata": {},
   "outputs": [
    {
     "ename": "TypeError",
     "evalue": "'<=' not supported between instances of 'str' and 'int'",
     "output_type": "error",
     "traceback": [
      "\u001b[1;31m---------------------------------------------------------------------------\u001b[0m",
      "\u001b[1;31mTypeError\u001b[0m                                 Traceback (most recent call last)",
      "\u001b[1;32m<ipython-input-72-3c967c2e06b2>\u001b[0m in \u001b[0;36m<module>\u001b[1;34m()\u001b[0m\n\u001b[0;32m     26\u001b[0m \u001b[1;33m\u001b[0m\u001b[0m\n\u001b[0;32m     27\u001b[0m \u001b[1;33m\u001b[0m\u001b[0m\n\u001b[1;32m---> 28\u001b[1;33m \u001b[0mcheck_rules\u001b[0m\u001b[1;33m(\u001b[0m\u001b[0mtickets\u001b[0m\u001b[1;33m[\u001b[0m\u001b[1;36m0\u001b[0m\u001b[1;33m]\u001b[0m\u001b[1;33m)\u001b[0m\u001b[1;33m\u001b[0m\u001b[0m\n\u001b[0m",
      "\u001b[1;32m<ipython-input-72-3c967c2e06b2>\u001b[0m in \u001b[0;36mcheck_rules\u001b[1;34m(ticket)\u001b[0m\n\u001b[0;32m     21\u001b[0m         \u001b[0mpossible_rules\u001b[0m\u001b[1;33m[\u001b[0m\u001b[0mi\u001b[0m\u001b[1;33m]\u001b[0m \u001b[1;33m=\u001b[0m \u001b[0mset\u001b[0m\u001b[1;33m(\u001b[0m\u001b[0mrule_dict\u001b[0m\u001b[1;33m.\u001b[0m\u001b[0mkeys\u001b[0m\u001b[1;33m(\u001b[0m\u001b[1;33m)\u001b[0m\u001b[1;33m)\u001b[0m\u001b[1;33m\u001b[0m\u001b[0m\n\u001b[0;32m     22\u001b[0m         \u001b[1;32mfor\u001b[0m \u001b[0mrule\u001b[0m \u001b[1;32min\u001b[0m \u001b[0mrule_dict\u001b[0m\u001b[1;33m:\u001b[0m\u001b[1;33m\u001b[0m\u001b[0m\n\u001b[1;32m---> 23\u001b[1;33m             \u001b[1;32mif\u001b[0m \u001b[0mrule_dict\u001b[0m\u001b[1;33m[\u001b[0m\u001b[0mrule\u001b[0m\u001b[1;33m]\u001b[0m\u001b[1;33m[\u001b[0m\u001b[1;36m0\u001b[0m\u001b[1;33m]\u001b[0m \u001b[1;33m<=\u001b[0m \u001b[0mint\u001b[0m\u001b[1;33m(\u001b[0m\u001b[0mticket\u001b[0m\u001b[1;33m[\u001b[0m\u001b[0mi\u001b[0m\u001b[1;33m]\u001b[0m\u001b[1;33m)\u001b[0m \u001b[1;33m<=\u001b[0m \u001b[0mrule_dict\u001b[0m\u001b[1;33m[\u001b[0m\u001b[0mrule\u001b[0m\u001b[1;33m]\u001b[0m\u001b[1;33m[\u001b[0m\u001b[1;36m1\u001b[0m\u001b[1;33m]\u001b[0m \u001b[1;32mor\u001b[0m \u001b[0mrule_dict\u001b[0m\u001b[1;33m[\u001b[0m\u001b[0mrule\u001b[0m\u001b[1;33m]\u001b[0m\u001b[1;33m[\u001b[0m\u001b[1;36m2\u001b[0m\u001b[1;33m]\u001b[0m \u001b[1;33m<=\u001b[0m \u001b[0mint\u001b[0m\u001b[1;33m(\u001b[0m\u001b[0mticket\u001b[0m\u001b[1;33m[\u001b[0m\u001b[0mi\u001b[0m\u001b[1;33m]\u001b[0m\u001b[1;33m)\u001b[0m \u001b[1;33m<=\u001b[0m \u001b[0mrule_dict\u001b[0m\u001b[1;33m[\u001b[0m\u001b[0mrule\u001b[0m\u001b[1;33m]\u001b[0m\u001b[1;33m[\u001b[0m\u001b[1;36m3\u001b[0m\u001b[1;33m]\u001b[0m\u001b[1;33m:\u001b[0m\u001b[1;33m\u001b[0m\u001b[0m\n\u001b[0m\u001b[0;32m     24\u001b[0m                 \u001b[0mpossible_rules\u001b[0m\u001b[1;33m[\u001b[0m\u001b[0mrule\u001b[0m\u001b[1;33m]\u001b[0m \u001b[1;33m=\u001b[0m \u001b[1;32mTrue\u001b[0m\u001b[1;33m\u001b[0m\u001b[0m\n\u001b[0;32m     25\u001b[0m     \u001b[0mprint\u001b[0m\u001b[1;33m(\u001b[0m\u001b[0mpossible_rules\u001b[0m\u001b[1;33m)\u001b[0m\u001b[1;33m\u001b[0m\u001b[0m\n",
      "\u001b[1;31mTypeError\u001b[0m: '<=' not supported between instances of 'str' and 'int'"
     ]
    }
   ],
   "source": [
    "import itertools\n",
    "rules = data[0].split('\\n')\n",
    "rule_dict = {}\n",
    "for r in rules:\n",
    "    rule, rule_range = r.split(': ')\n",
    "    rule_range = rule_range.replace('-', ',').replace(' or ', ',')\n",
    "    rule_range = rule_range.split(',')\n",
    "    rule_dict[rule] = rule_range\n",
    "    \n",
    "my_ticket = [int(num) for num in data[1].split('\\n')[1].split(',')]\n",
    "near_tickets = [[int(num) for num in tick.split(',')] for tick in data[2].split('\\n')[1:]]\n",
    "tickets = [my_ticket]\n",
    "for ticket in near_tickets:\n",
    "    tickets.append(ticket)\n",
    "\n",
    "\n",
    "def check_rules(ticket):\n",
    "    possible_rules = {}\n",
    "    \n",
    "    for i in range(len(ticket)):\n",
    "        possible_rules[i] = set(rule_dict.keys())\n",
    "        for rule in rule_dict:\n",
    "            if rule_dict[rule][0] <= int(ticket[i]) <= rule_dict[rule][1] or rule_dict[rule][2] <= int(ticket[i]) <= rule_dict[rule][3]:\n",
    "                possible_rules[rule] = True\n",
    "    print(possible_rules)\n",
    "        \n",
    "\n",
    "check_rules(tickets[0])"
   ]
  },
  {
   "cell_type": "code",
   "execution_count": 15,
   "metadata": {},
   "outputs": [],
   "source": []
  },
  {
   "cell_type": "code",
   "execution_count": null,
   "metadata": {},
   "outputs": [],
   "source": []
  }
 ],
 "metadata": {
  "kernelspec": {
   "display_name": "Python 3",
   "language": "python",
   "name": "python3"
  },
  "language_info": {
   "codemirror_mode": {
    "name": "ipython",
    "version": 3
   },
   "file_extension": ".py",
   "mimetype": "text/x-python",
   "name": "python",
   "nbconvert_exporter": "python",
   "pygments_lexer": "ipython3",
   "version": "3.6.5"
  }
 },
 "nbformat": 4,
 "nbformat_minor": 2
}
