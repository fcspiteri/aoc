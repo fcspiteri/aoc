{
 "cells": [
  {
   "cell_type": "code",
   "execution_count": 27,
   "metadata": {},
   "outputs": [],
   "source": [
    "import csv"
   ]
  },
  {
   "cell_type": "code",
   "execution_count": 28,
   "metadata": {},
   "outputs": [],
   "source": [
    "with open('input1_.csv') as csvfile:\n",
    "    readCSV = csv.reader(csvfile)\n",
    "    list1 = []\n",
    "    for row in readCSV:\n",
    "        item = row[0]\n",
    "\n",
    "        list1.append(item)\n"
   ]
  },
  {
   "cell_type": "code",
   "execution_count": 29,
   "metadata": {},
   "outputs": [
    {
     "name": "stdout",
     "output_type": "stream",
     "text": [
      "1436 584\n",
      "838624\n",
      "584 1436\n",
      "838624\n"
     ]
    }
   ],
   "source": [
    "#Part 1\n",
    "\n",
    "for i in range(0, len(list1)):\n",
    "    for j in range(0, len(list1)):\n",
    "        if i != j:\n",
    "            if int(list1[i])+int(list1[j]) == 2020:\n",
    "                print(list1[i], list1[j])\n",
    "                print(int(list1[i])*int(list1[j]))\n",
    "        \n",
    "        "
   ]
  },
  {
   "cell_type": "code",
   "execution_count": 26,
   "metadata": {},
   "outputs": [
    {
     "name": "stdout",
     "output_type": "stream",
     "text": [
      "245 131 1644\n",
      "52764180\n",
      "245 1644 131\n",
      "52764180\n",
      "131 245 1644\n",
      "52764180\n",
      "131 1644 245\n",
      "52764180\n",
      "1644 245 131\n",
      "52764180\n",
      "1644 131 245\n",
      "52764180\n"
     ]
    }
   ],
   "source": [
    "#Part 2\n",
    "\n",
    "for i in range(0, len(list1)):\n",
    "    for j in range(0, len(list1)):\n",
    "        for k in range(0, len(list1)):\n",
    "            if i != j:\n",
    "                if j != k:\n",
    "                    if int(list1[i])+int(list1[j])+int(list1[k]) == 2020:\n",
    "                        print(list1[i], list1[j], list1[k])\n",
    "                        print(int(list1[i])*int(list1[j])*int(list1[k]))\n",
    "        \n",
    "        "
   ]
  },
  {
   "cell_type": "code",
   "execution_count": 35,
   "metadata": {},
   "outputs": [
    {
     "name": "stdout",
     "output_type": "stream",
     "text": [
      "838624\n",
      "52764180\n"
     ]
    }
   ],
   "source": [
    "#Part 1 - better\n",
    "\n",
    "from itertools import combinations\n",
    "\n",
    "with open('input1_.csv') as csvfile:\n",
    "    ls = [int(e.strip()) for e in csvfile.readlines()]\n",
    "    \n",
    "#Part 1\n",
    "print ([e[0] * e[1] for e in combinations(ls, 2) if sum(e) == 2020][0])\n",
    "\n",
    "#Part 2\n",
    "print ([e[0] * e[1] * e[2] for e in combinations(ls, 3) if sum(e) == 2020][0])"
   ]
  },
  {
   "cell_type": "code",
   "execution_count": null,
   "metadata": {},
   "outputs": [],
   "source": []
  }
 ],
 "metadata": {
  "kernelspec": {
   "display_name": "Python 3",
   "language": "python",
   "name": "python3"
  },
  "language_info": {
   "codemirror_mode": {
    "name": "ipython",
    "version": 3
   },
   "file_extension": ".py",
   "mimetype": "text/x-python",
   "name": "python",
   "nbconvert_exporter": "python",
   "pygments_lexer": "ipython3",
   "version": "3.6.5"
  }
 },
 "nbformat": 4,
 "nbformat_minor": 2
}
