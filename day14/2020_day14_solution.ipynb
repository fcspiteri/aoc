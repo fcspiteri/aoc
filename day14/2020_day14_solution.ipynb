{
 "cells": [
  {
   "cell_type": "code",
   "execution_count": 155,
   "metadata": {},
   "outputs": [],
   "source": [
    "with open('input14.txt','r') as f_open:\n",
    "    data = f_open.read()\n",
    "data = data.split('\\n')"
   ]
  },
  {
   "cell_type": "code",
   "execution_count": 156,
   "metadata": {},
   "outputs": [],
   "source": [
    "mem = [line.replace('mem', '').replace('[', '').replace(']', '').split(' = ') for line in data]\n",
    "memory = ['']*999999"
   ]
  },
  {
   "cell_type": "code",
   "execution_count": 157,
   "metadata": {},
   "outputs": [],
   "source": [
    "def num_to_bin(num):\n",
    "    binary = '{0:{fill}36b}'.format(num, fill='0')\n",
    "    return binary\n",
    "\n",
    "def bin_to_num(bin):\n",
    "    num = int(bin, 2)\n",
    "    return num"
   ]
  },
  {
   "cell_type": "code",
   "execution_count": 74,
   "metadata": {},
   "outputs": [
    {
     "name": "stdout",
     "output_type": "stream",
     "text": [
      "51\n"
     ]
    }
   ],
   "source": [
    "mask = ''\n",
    "temp = ''\n",
    "for line in mem:\n",
    "    if 'mask' in line:\n",
    "        mask = line[1]\n",
    "        mask_l = list(mask)\n",
    "    else:\n",
    "        temp = num_to_bin(int(line[1]))\n",
    "        temp = list(temp)\n",
    "        \n",
    "        for i in range(36):\n",
    "            if mask_l[i] == 'X':\n",
    "                continue\n",
    "            elif mask_l[i] == '1':\n",
    "                temp[i] = '1'\n",
    "            elif mask_l[i] == '0':\n",
    "                temp[i] = '0'\n",
    "        temp = ''.join(temp)\n",
    "        memory[int(line[0])]=bin_to_num(temp)\n",
    "sum = 0\n",
    "for i in memory:\n",
    "    if i != '':\n",
    "        sum+= int(i)\n",
    "\n",
    "print(sum)"
   ]
  },
  {
   "cell_type": "code",
   "execution_count": 158,
   "metadata": {},
   "outputs": [
    {
     "name": "stdout",
     "output_type": "stream",
     "text": [
      "4795970362286\n"
     ]
    }
   ],
   "source": [
    "import itertools\n",
    "\n",
    "mask = ''\n",
    "temp = ''\n",
    "memory = {}\n",
    "for line in mem:\n",
    "    if 'mask' in line:\n",
    "        mask = line[1]\n",
    "        mask_l = list(mask)\n",
    "    else:\n",
    "        temp = num_to_bin(int(line[0]))\n",
    "        temp = list(temp)\n",
    "        \n",
    "        for i in range(36):\n",
    "            if mask_l[i] == 'X':\n",
    "                temp[i] = 'X'\n",
    "            elif mask_l[i] == '1':\n",
    "                temp[i] = '1'\n",
    "            elif mask_l[i] == '0':\n",
    "                continue\n",
    "        temp = ''.join(temp)\n",
    "        count = temp.count('X')\n",
    "        combos = list(itertools.combinations(count*('10'), count))\n",
    "        # Replace floating bits\n",
    "        for j in range(0, len(combos)):\n",
    "            temp2 = list(temp)\n",
    "            floating_bit = 0\n",
    "            for i in range(0, len(temp2)):\n",
    "                if temp2[i] == 'X':\n",
    "                    temp2[i] = combos[j][floating_bit]\n",
    "                    floating_bit += 1\n",
    "            temp2 = ''.join(temp2)\n",
    "            mem_add = bin_to_num(temp2)\n",
    "            memory[mem_add] = line[1]\n",
    "        \n",
    "sum = 0\n",
    "values = memory.values()\n",
    "vals = list(values)\n",
    "for i in vals:\n",
    "    sum+= int(i)\n",
    "\n",
    "print(sum)"
   ]
  },
  {
   "cell_type": "code",
   "execution_count": null,
   "metadata": {},
   "outputs": [],
   "source": []
  }
 ],
 "metadata": {
  "kernelspec": {
   "display_name": "Python 3",
   "language": "python",
   "name": "python3"
  },
  "language_info": {
   "codemirror_mode": {
    "name": "ipython",
    "version": 3
   },
   "file_extension": ".py",
   "mimetype": "text/x-python",
   "name": "python",
   "nbconvert_exporter": "python",
   "pygments_lexer": "ipython3",
   "version": "3.6.5"
  }
 },
 "nbformat": 4,
 "nbformat_minor": 2
}
