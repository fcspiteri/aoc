{
 "cells": [
  {
   "cell_type": "code",
   "execution_count": null,
   "metadata": {},
   "outputs": [],
   "source": [
    "with open('input13.txt','r') as f_open:\n",
    "    data = f_open.read()\n",
    "data = data.split('\\n')\n",
    "\n",
    "earliest_time = int(data[0])\n",
    "in_service = data[1].split(',')\n",
    "\n",
    "new_time = earliest_time\n",
    "run = True\n",
    "while run == True:\n",
    "    for bus in in_service:\n",
    "        if bus != 'x':\n",
    "            if new_time % int(bus) == 0:\n",
    "                wait_time= new_time-earliest_time\n",
    "                print (bus, new_time, wait_time)\n",
    "                answer = wait_time * int(bus)\n",
    "                print(answer)\n",
    "                run = False\n",
    "    new_time += 1"
   ]
  },
  {
   "cell_type": "code",
   "execution_count": null,
   "metadata": {},
   "outputs": [],
   "source": [
    "with open('input13.txt','r') as f_open:\n",
    "    data = f_open.read()\n",
    "data = data.split('\\n')\n",
    "\n",
    "earliest_time = int(data[0])\n",
    "in_service = data[1].split(',')\n",
    "\n",
    "#new_time = earliest_time\n",
    "new_time = 100000000000000\n",
    "\n",
    "run = True\n",
    "while run == True:\n",
    "    if new_time % int(in_service[0]) == 0 and (new_time+len(in_service))%int(in_service[len(in_service)-1]):\n",
    "        for i in range(0, len(in_service)):  \n",
    "            if in_service[i] != 'x':\n",
    "                if (new_time+i) % int(in_service[i]) == 0:\n",
    "                    if i == (len(in_service)-1):\n",
    "                        print('FOUND',new_time)\n",
    "                        run = False\n",
    "                        break\n",
    "    new_time += 1\n",
    "    \n",
    "        \n"
   ]
  },
  {
   "cell_type": "code",
   "execution_count": null,
   "metadata": {},
   "outputs": [],
   "source": []
  },
  {
   "cell_type": "code",
   "execution_count": null,
   "metadata": {},
   "outputs": [],
   "source": []
  }
 ],
 "metadata": {
  "kernelspec": {
   "display_name": "Python 3",
   "language": "python",
   "name": "python3"
  },
  "language_info": {
   "codemirror_mode": {
    "name": "ipython",
    "version": 3
   },
   "file_extension": ".py",
   "mimetype": "text/x-python",
   "name": "python",
   "nbconvert_exporter": "python",
   "pygments_lexer": "ipython3",
   "version": "3.6.5"
  }
 },
 "nbformat": 4,
 "nbformat_minor": 2
}
