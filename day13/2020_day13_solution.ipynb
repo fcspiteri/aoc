{
 "cells": [
  {
   "cell_type": "code",
   "execution_count": null,
   "metadata": {},
   "outputs": [],
   "source": [
    "with open('input13.txt','r') as f_open:\n",
    "    data = f_open.read()\n",
    "data = data.split('\\n')\n",
    "\n",
    "earliest_time = int(data[0])\n",
    "in_service = data[1].split(',')\n",
    "\n",
    "new_time = earliest_time\n",
    "run = True\n",
    "while run == True:\n",
    "    for bus in in_service:\n",
    "        if bus != 'x':\n",
    "            if new_time % int(bus) == 0:\n",
    "                wait_time= new_time-earliest_time\n",
    "                print (bus, new_time, wait_time)\n",
    "                answer = wait_time * int(bus)\n",
    "                print(answer)\n",
    "                run = False\n",
    "    new_time += 1"
   ]
  },
  {
   "cell_type": "code",
   "execution_count": null,
   "metadata": {},
   "outputs": [],
   "source": []
  }
 ],
 "metadata": {
  "kernelspec": {
   "display_name": "Python 3",
   "language": "python",
   "name": "python3"
  },
  "language_info": {
   "codemirror_mode": {
    "name": "ipython",
    "version": 3
   },
   "file_extension": ".py",
   "mimetype": "text/x-python",
   "name": "python",
   "nbconvert_exporter": "python",
   "pygments_lexer": "ipython3",
   "version": "3.6.5"
  }
 },
 "nbformat": 4,
 "nbformat_minor": 2
}
