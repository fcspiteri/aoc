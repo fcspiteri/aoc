{
 "cells": [
  {
   "cell_type": "code",
   "execution_count": 282,
   "metadata": {},
   "outputs": [
    {
     "name": "stdout",
     "output_type": "stream",
     "text": [
      "315\n"
     ]
    }
   ],
   "source": [
    "import numpy as np\n",
    "import collections\n",
    "\n",
    "with open('input17.txt') as f:\n",
    "    data = [line.strip() for line in f]\n",
    "    \n",
    "\n",
    "#part 1\n",
    "array = np.array([list(row) for row in data])\n",
    "array = array[:, :, np.newaxis]\n",
    "\n",
    "for i in range(0, 6):\n",
    "    array = np.pad(array, ((1, 1), (1, 1), (1, 1)), constant_values='.')\n",
    "    new_array = np.copy(array)\n",
    "\n",
    "    for x in range(array.shape[0]):\n",
    "        for y in range(array.shape[1]):\n",
    "            for z in range(array.shape[2]):\n",
    "                active_neighbors = 0\n",
    "                for i in [-1, 0, 1]:\n",
    "                    for j in [-1, 0, 1]:\n",
    "                        for k in [-1, 0, 1]:\n",
    "                            if i == 0 and j == 0 and k == 0:\n",
    "                                continue\n",
    "                            if 0 <= x+i < array.shape[0] and 0 <= y+j < array.shape[1] and 0 <= z+k < array.shape[2]:\n",
    "                                if array[x+i][y+j][z+k] == '#':\n",
    "                                    active_neighbors += 1\n",
    "\n",
    "                previous = array[x][y][z]\n",
    "                if previous == '#' and active_neighbors not in [2, 3]:\n",
    "                    new_array[x][y][z] = '.'\n",
    "                elif previous == '.' and active_neighbors == 3:\n",
    "                        new_array[x][y][z] = '#'\n",
    "                else:\n",
    "                    new_array[x][y][z] = previous\n",
    "                \n",
    "    array = new_array\n",
    "\n",
    "print(sum([1 for x in array for y in x for z in y if z == '#']))"
   ]
  },
  {
   "cell_type": "code",
   "execution_count": 284,
   "metadata": {},
   "outputs": [
    {
     "name": "stdout",
     "output_type": "stream",
     "text": [
      "1520\n"
     ]
    }
   ],
   "source": [
    "import numpy as np\n",
    "import collections\n",
    "\n",
    "with open('input17.txt') as f:\n",
    "    data = [line.strip() for line in f]\n",
    "    \n",
    "\n",
    "#part 2\n",
    "array = np.array([list(row) for row in data])\n",
    "array = array[:, :, np.newaxis, np.newaxis]\n",
    "\n",
    "for i in range(0, 6):\n",
    "    array = np.pad(array, ((1, 1), (1, 1), (1, 1), (1,1)), constant_values='.')\n",
    "    new_array = np.copy(array)\n",
    "\n",
    "    for x in range(array.shape[0]):\n",
    "        for y in range(array.shape[1]):\n",
    "            for z in range(array.shape[2]):\n",
    "                for a in range(array.shape[3]):\n",
    "                    active_neighbors = 0\n",
    "                    for i in [-1, 0, 1]:\n",
    "                        for j in [-1, 0, 1]:\n",
    "                            for k in [-1, 0, 1]:\n",
    "                                for l in [-1, 0, 1]:\n",
    "                                    if i == 0 and j == 0 and k == 0 and l == 0:\n",
    "                                        continue\n",
    "                                    if 0 <= x+i < array.shape[0] and 0 <= y+j < array.shape[1] and 0 <= z+k < array.shape[2] and 0 <= a+l < array.shape[3]:\n",
    "                                        if array[x+i][y+j][z+k][a+l] == '#':\n",
    "                                            active_neighbors += 1\n",
    "\n",
    "                    previous = array[x][y][z][a]\n",
    "                    if previous == '#' and active_neighbors not in [2, 3]:\n",
    "                        new_array[x][y][z][a] = '.'\n",
    "                    elif previous == '.' and active_neighbors == 3:\n",
    "                            new_array[x][y][z][a] = '#'\n",
    "                    else:\n",
    "                        new_array[x][y][z][a] = previous\n",
    "                \n",
    "    array = new_array\n",
    "\n",
    "print(sum([1 for x in array for y in x for z in y for a in z if a == '#']))"
   ]
  },
  {
   "cell_type": "code",
   "execution_count": null,
   "metadata": {},
   "outputs": [],
   "source": []
  },
  {
   "cell_type": "code",
   "execution_count": null,
   "metadata": {},
   "outputs": [],
   "source": []
  }
 ],
 "metadata": {
  "kernelspec": {
   "display_name": "Python 3",
   "language": "python",
   "name": "python3"
  },
  "language_info": {
   "codemirror_mode": {
    "name": "ipython",
    "version": 3
   },
   "file_extension": ".py",
   "mimetype": "text/x-python",
   "name": "python",
   "nbconvert_exporter": "python",
   "pygments_lexer": "ipython3",
   "version": "3.6.5"
  }
 },
 "nbformat": 4,
 "nbformat_minor": 2
}
