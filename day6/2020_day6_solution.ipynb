{
 "cells": [
  {
   "cell_type": "code",
   "execution_count": 14,
   "metadata": {},
   "outputs": [
    {
     "name": "stdout",
     "output_type": "stream",
     "text": [
      "6521\n"
     ]
    }
   ],
   "source": [
    "#Part 1\n",
    "\n",
    "with open('input6.txt','r') as f_open:\n",
    "    data = f_open.read()\n",
    "\n",
    "data = data.split('\\n\\n')\n",
    "count = 0\n",
    "for i in range(0, len(data)):\n",
    "    data[i] = data[i].replace('\\n', '')\n",
    "    count = count + len(set(data[i]))\n",
    "print(count)"
   ]
  },
  {
   "cell_type": "code",
   "execution_count": 42,
   "metadata": {},
   "outputs": [
    {
     "name": "stdout",
     "output_type": "stream",
     "text": [
      "3305\n"
     ]
    }
   ],
   "source": [
    "#Part 2\n",
    "\n",
    "import string\n",
    "abc = string.ascii_lowercase\n",
    "\n",
    "with open('input6.txt','r') as f_open:\n",
    "    data = f_open.read()\n",
    "\n",
    "data = data.split('\\n\\n')\n",
    "\n",
    "count = 0\n",
    "for i in range(0, len(data)):\n",
    "    data[i] = data[i].replace('\\n', ' ')\n",
    "    group_size = len(data[i].split())\n",
    "    data[i] = data[i].replace(' ', '')\n",
    "    for c in abc:\n",
    "        char_count = data[i].count(c)\n",
    "        if char_count == group_size:\n",
    "            count = count + 1\n",
    "print(count)"
   ]
  },
  {
   "cell_type": "code",
   "execution_count": 55,
   "metadata": {},
   "outputs": [
    {
     "name": "stdout",
     "output_type": "stream",
     "text": [
      "3305\n"
     ]
    }
   ],
   "source": [
    "#Part 2 - another way\n",
    "\n",
    "from functools import reduce\n",
    "\n",
    "with open('input6.txt','r') as f_open:\n",
    "    data = f_open.read()\n",
    "data = data.split('\\n\\n')\n",
    "\n",
    "count = 0\n",
    "for i in data:\n",
    "    i = i.replace('\\n', ' ')\n",
    "    group = i.split()\n",
    "    count = count + len(reduce(lambda a,b : set(a) & set(b),group))\n",
    "print(count)"
   ]
  },
  {
   "cell_type": "code",
   "execution_count": null,
   "metadata": {},
   "outputs": [],
   "source": []
  }
 ],
 "metadata": {
  "kernelspec": {
   "display_name": "Python 3",
   "language": "python",
   "name": "python3"
  },
  "language_info": {
   "codemirror_mode": {
    "name": "ipython",
    "version": 3
   },
   "file_extension": ".py",
   "mimetype": "text/x-python",
   "name": "python",
   "nbconvert_exporter": "python",
   "pygments_lexer": "ipython3",
   "version": "3.6.5"
  }
 },
 "nbformat": 4,
 "nbformat_minor": 2
}
